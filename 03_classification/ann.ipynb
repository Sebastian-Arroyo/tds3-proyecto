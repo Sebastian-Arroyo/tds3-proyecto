{
 "cells": [
  {
   "cell_type": "markdown",
   "id": "8131869c-97c0-40c0-8f61-fe9ad1101ce9",
   "metadata": {},
   "source": [
    "# Miniproyecto #3: Redes neuronales artificiales (ANN)"
   ]
  },
  {
   "cell_type": "markdown",
   "id": "ca8702e2-150b-4879-a915-68ac7fc21142",
   "metadata": {},
   "source": [
    "\n",
    "**Autores:**\n",
    "*   Jorge Sebastián Arroyo Estrada CC. 1193482707\n",
    "*   César Augusto Montoya Ocampo CC. 1036681523\n",
    "\n",
    "**Tratamiento de Señales III**\n",
    "\n",
    "**Facultad de Ingeniería**\n",
    "\n",
    "**Universidad de Antioquia**\n",
    "\n",
    "---"
   ]
  },
  {
   "cell_type": "markdown",
   "id": "085328da-239d-490a-9964-064edf54af46",
   "metadata": {},
   "source": [
    "## Librerías"
   ]
  },
  {
   "cell_type": "code",
   "execution_count": 5,
   "id": "2e37ae52-54a5-49ea-a87c-b16a28572b7c",
   "metadata": {},
   "outputs": [
    {
     "ename": "ModuleNotFoundError",
     "evalue": "No module named 'tensorflow.keras'",
     "output_type": "error",
     "traceback": [
      "\u001b[0;31m---------------------------------------------------------------------------\u001b[0m",
      "\u001b[0;31mModuleNotFoundError\u001b[0m                       Traceback (most recent call last)",
      "Cell \u001b[0;32mIn[5], line 8\u001b[0m\n\u001b[1;32m      6\u001b[0m \u001b[38;5;28;01mfrom\u001b[39;00m \u001b[38;5;21;01mscikeras\u001b[39;00m\u001b[38;5;21;01m.\u001b[39;00m\u001b[38;5;21;01mwrappers\u001b[39;00m \u001b[38;5;28;01mimport\u001b[39;00m KerasClassifier\n\u001b[1;32m      7\u001b[0m \u001b[38;5;28;01mimport\u001b[39;00m \u001b[38;5;21;01mtensorflow\u001b[39;00m \u001b[38;5;28;01mas\u001b[39;00m \u001b[38;5;21;01mtf\u001b[39;00m\n\u001b[0;32m----> 8\u001b[0m \u001b[38;5;28;01mfrom\u001b[39;00m \u001b[38;5;21;01mtensorflow\u001b[39;00m\u001b[38;5;21;01m.\u001b[39;00m\u001b[38;5;21;01mkeras\u001b[39;00m\u001b[38;5;21;01m.\u001b[39;00m\u001b[38;5;21;01mlayers\u001b[39;00m \u001b[38;5;28;01mimport\u001b[39;00m Dense, Dropout\n\u001b[1;32m      9\u001b[0m \u001b[38;5;28;01mfrom\u001b[39;00m \u001b[38;5;21;01mtensorflow\u001b[39;00m\u001b[38;5;21;01m.\u001b[39;00m\u001b[38;5;21;01mkeras\u001b[39;00m\u001b[38;5;21;01m.\u001b[39;00m\u001b[38;5;21;01mmodels\u001b[39;00m \u001b[38;5;28;01mimport\u001b[39;00m Sequential\n",
      "\u001b[0;31mModuleNotFoundError\u001b[0m: No module named 'tensorflow.keras'"
     ]
    }
   ],
   "source": [
    "import numpy as np\n",
    "import pandas as pd\n",
    "from sklearn.model_selection import GridSearchCV, StratifiedKFold, cross_val_score\n",
    "from sklearn.metrics import accuracy_score, precision_score, f1_score, confusion_matrix, classification_report\n",
    "import matplotlib.pyplot as plt\n",
    "from scikeras.wrappers import KerasClassifier\n",
    "import tensorflow as tf\n",
    "from tensorflow.keras.layers import Dense, Dropout\n",
    "from tensorflow.keras.models import Sequential"
   ]
  },
  {
   "cell_type": "code",
   "execution_count": 7,
   "id": "9493a42e-4b47-42b3-8b30-5a677c655d4c",
   "metadata": {},
   "outputs": [
    {
     "ename": "ModuleNotFoundError",
     "evalue": "No module named 'tensorflow.keras'",
     "output_type": "error",
     "traceback": [
      "\u001b[0;31m---------------------------------------------------------------------------\u001b[0m",
      "\u001b[0;31mModuleNotFoundError\u001b[0m                       Traceback (most recent call last)",
      "Cell \u001b[0;32mIn[7], line 1\u001b[0m\n\u001b[0;32m----> 1\u001b[0m \u001b[38;5;28;01mimport\u001b[39;00m \u001b[38;5;21;01mtensorflow\u001b[39;00m\u001b[38;5;21;01m.\u001b[39;00m\u001b[38;5;21;01mkeras\u001b[39;00m \u001b[38;5;28;01mas\u001b[39;00m \u001b[38;5;21;01mtf\u001b[39;00m\n\u001b[1;32m      2\u001b[0m \u001b[38;5;28mprint\u001b[39m(tf\u001b[38;5;241m.\u001b[39m__version__)\n",
      "\u001b[0;31mModuleNotFoundError\u001b[0m: No module named 'tensorflow.keras'"
     ]
    }
   ],
   "source": [
    "import tensorflow.keras as tf\n",
    "print(tf.__version__)"
   ]
  },
  {
   "cell_type": "markdown",
   "id": "e1c17044-f28e-4c8d-b3e7-3f954eb3a436",
   "metadata": {},
   "source": [
    "## SVM\n",
    "1. Cargar características (para ambos tamaños, con y sin PCA)\n",
    "2. Realizar K-fold con K=5\n",
    "3. Graficar métricas de clasificación\n",
    "4. Graficar matriz de confusión"
   ]
  },
  {
   "cell_type": "markdown",
   "id": "17b1e08f-b485-4172-9862-2a5fb8941b1a",
   "metadata": {},
   "source": [
    "## Globales"
   ]
  },
  {
   "cell_type": "code",
   "execution_count": 1,
   "id": "d9ac6f2a-a29a-4c1e-967d-3579cb89b9d8",
   "metadata": {},
   "outputs": [],
   "source": [
    "# Tenemos varias opciones para la base de datos\n",
    "DB_PATH64 = \"../02_features/features_64.csv\"\n",
    "DB_PATH128 = \"../02_features/features_128.csv\"\n",
    "DB_PCA_PATH64 = \"../02_features/pca_64.csv\"\n",
    "DB_PCA_PATH128 = \"../02_features/pca_128.csv\"\n",
    "LABELS_PATH = \"../02_features/labels.csv\"\n",
    "\n",
    "DB_PATH = DB_PATH64"
   ]
  },
  {
   "cell_type": "code",
   "execution_count": 2,
   "id": "db02a2ed-79a8-483a-93cb-536a75c5b1af",
   "metadata": {},
   "outputs": [
    {
     "ename": "NameError",
     "evalue": "name 'pd' is not defined",
     "output_type": "error",
     "traceback": [
      "\u001b[0;31m---------------------------------------------------------------------------\u001b[0m",
      "\u001b[0;31mNameError\u001b[0m                                 Traceback (most recent call last)",
      "Cell \u001b[0;32mIn[2], line 1\u001b[0m\n\u001b[0;32m----> 1\u001b[0m data \u001b[38;5;241m=\u001b[39m pd\u001b[38;5;241m.\u001b[39mread_csv(DB_PATH)\n\u001b[1;32m      2\u001b[0m labels_df \u001b[38;5;241m=\u001b[39m pd\u001b[38;5;241m.\u001b[39mread_csv(LABELS_PATH)\n\u001b[1;32m      3\u001b[0m X \u001b[38;5;241m=\u001b[39m data\u001b[38;5;241m.\u001b[39miloc[:, :\u001b[38;5;241m-\u001b[39m\u001b[38;5;241m1\u001b[39m]\u001b[38;5;241m.\u001b[39mvalues  \u001b[38;5;66;03m# Assuming last column is the label\u001b[39;00m\n",
      "\u001b[0;31mNameError\u001b[0m: name 'pd' is not defined"
     ]
    }
   ],
   "source": [
    "data = pd.read_csv(DB_PATH)\n",
    "labels_df = pd.read_csv(LABELS_PATH)\n",
    "X = data.iloc[:, :-1].values  # Assuming last column is the label\n",
    "y = data.iloc[:, -1].values\n",
    "\n",
    "# Map numeric classes to labels for better display in results\n",
    "label_mapping = dict(zip(labels_df['Class'], labels_df['label']))\n",
    "y = np.vectorize(label_mapping.get)(y)\n",
    "\n",
    "# Define a function to create the model with variable parameters\n",
    "def create_model(hidden_layers: tuple[int], activation: str, dropout_rate: float) -> tf.keras.models.Model:\n",
    "    model = Sequential()\n",
    "    # Input layer\n",
    "    model.add(Dense(hidden_layers[0], activation=activation, input_shape=(X.shape[1],)))\n",
    "    model.add(Dropout(dropout_rate))\n",
    "    # Hidden layers\n",
    "    for units in hidden_layers[1:]:\n",
    "        model.add(Dense(units, activation=activation))\n",
    "        model.add(Dropout(dropout_rate))\n",
    "    # Output layer\n",
    "    model.add(Dense(len(np.unique(y)), activation='softmax'))\n",
    "    model.compile(optimizer='adam', loss='sparse_categorical_crossentropy', metrics=['accuracy'])\n",
    "    return model\n",
    "\n",
    "# Wrapping the model for scikit-learn compatibility\n",
    "model = KerasClassifier(\n",
    "    model=create_model,\n",
    "    hidden_layers=(128, 64),\n",
    "    activation=\"relu\",\n",
    "    dropout_rate=0.3,\n",
    "    epochs=20,\n",
    "    batch_size=32,\n",
    "    verbose=0\n",
    ")\n",
    "\n",
    "# Defining the parameter grid for GridSearch\n",
    "param_grid = {\n",
    "    \"hidden_layers\": [(256, 128, 64), (128, 64), (256, 128, 64, 32)],\n",
    "    \"activation\": [\"relu\", \"elu\"],\n",
    "    \"dropout_rate\": [0.3, 0.4]\n",
    "}\n",
    "\n",
    "# Set up StratifiedKFold for cross-validation\n",
    "cv = StratifiedKFold(n_splits=5, shuffle=True, random_state=42)\n",
    "\n",
    "# Perform Grid Search with Cross-Validation\n",
    "grid_search = GridSearchCV(model, param_grid, cv=cv, scoring=\"accuracy\", n_jobs=-1)\n",
    "grid_search.fit(X, y)\n",
    "\n",
    "# Print best parameters and score\n",
    "print(\"Best Parameters:\", grid_search.best_params_)\n",
    "print(\"Best Cross-Validation Accuracy:\", grid_search.best_score_)\n",
    "\n",
    "# Evaluate on Cross-Validation with best model and display metrics\n",
    "best_model = grid_search.best_estimator_\n",
    "y_preds = cross_val_score(best_model, X, y, cv=cv, scoring='accuracy')\n",
    "y_pred = best_model.predict(X)\n",
    "\n",
    "print(\"Final Cross-Validation Accuracy:\", y_preds.mean())\n",
    "print(\"Classification Report:\")\n",
    "print(classification_report(y, y_pred))\n",
    "\n",
    "# Confusion Matrix\n",
    "cm = confusion_matrix(y, y_pred, labels=np.unique(y))\n",
    "plt.figure(figsize=(10, 7))\n",
    "plt.imshow(cm, interpolation='nearest', cmap=plt.cm.Blues)\n",
    "plt.title(\"Confusion Matrix\")\n",
    "plt.colorbar()\n",
    "tick_marks = np.arange(len(label_mapping))\n",
    "plt.xticks(tick_marks, np.unique(y), rotation=45)\n",
    "plt.yticks(tick_marks, np.unique(y))\n",
    "plt.ylabel('True label')\n",
    "plt.xlabel('Predicted label')\n",
    "plt.show()\n",
    "\n",
    "# Displaying cross-validation metrics\n",
    "print(\"Cross-Validation Scores:\")\n",
    "print(f\"Accuracy: {accuracy_score(y, y_pred):.2f}\")\n",
    "print(f\"Precision: {precision_score(y, y_pred, average='weighted'):.2f}\")\n",
    "print(f\"F1-Score: {f1_score(y, y_pred, average='weighted'):.2f}\")\n"
   ]
  },
  {
   "cell_type": "markdown",
   "id": "d2dc792a-be36-49aa-8c73-70419511bfee",
   "metadata": {},
   "source": [
    "## Conclusiones\n",
    "1. La característica de los histogramas de gradientes orientados (HOG) resultó útil para hallar las formas de los objetos en las imágenes, esto es especialmente significativo para la tarea de distinguir algunas frutas, por ejemplo de la forma elongada de una banana contra la forma circular de una naranja.\n",
    "2. La característica de patrones binarios locales (LBP) sirvió para caracterizar las texturas presentes en las imágenes, siendo especialmente útil en las imágenes de \"alta\" resolución (128×128), ya que en las de baja resolución (64×64) se distorsiona demasiado.\n",
    "3. Esta misma característica además permite visualizar las frutas, ya que algo tienen en común los fondos y es que son relativamente uniformes en textura, a diferencia de las frutas.\n",
    "4. Mediante el análisis de histogramas de las componentes en el espacio Hue-Saturation-Value (HSV) se obtuvieron características adicionales que permiten aprovechar la diferencia en matiz, saturación y luminosidad de las imágenes, las cuales a simple vista otorgan información valiosa para la tarea de clasificación."
   ]
  }
 ],
 "metadata": {
  "kernelspec": {
   "display_name": "Python 3 (ipykernel)",
   "language": "python",
   "name": "python3"
  },
  "language_info": {
   "codemirror_mode": {
    "name": "ipython",
    "version": 3
   },
   "file_extension": ".py",
   "mimetype": "text/x-python",
   "name": "python",
   "nbconvert_exporter": "python",
   "pygments_lexer": "ipython3",
   "version": "3.11.8"
  }
 },
 "nbformat": 4,
 "nbformat_minor": 5
}
